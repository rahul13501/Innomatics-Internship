{
 "cells": [
  {
   "cell_type": "code",
   "execution_count": 2,
   "id": "7944a276",
   "metadata": {},
   "outputs": [],
   "source": [
    "import numpy as np"
   ]
  },
  {
   "cell_type": "code",
   "execution_count": 3,
   "id": "801e1338",
   "metadata": {},
   "outputs": [
    {
     "data": {
      "text/plain": [
       "array([[408819, 495679],\n",
       "       [479465,  20377],\n",
       "       [687347, 776616],\n",
       "       ...,\n",
       "       [727578, 371600],\n",
       "       [570852, 975316],\n",
       "       [195645, 295078]])"
      ]
     },
     "execution_count": 3,
     "metadata": {},
     "output_type": "execute_result"
    }
   ],
   "source": [
    "arr= np.random.randint(1000000, size=(1000000, 2))\n",
    "arr"
   ]
  },
  {
   "cell_type": "code",
   "execution_count": 4,
   "id": "c0d7d67d",
   "metadata": {},
   "outputs": [],
   "source": [
    "centroid = np.mean(arr, axis=0)"
   ]
  },
  {
   "cell_type": "code",
   "execution_count": 5,
   "id": "39397f31",
   "metadata": {},
   "outputs": [],
   "source": [
    "#numpy broadcASting"
   ]
  },
  {
   "cell_type": "code",
   "execution_count": 6,
   "id": "b63a669a",
   "metadata": {},
   "outputs": [],
   "source": [
    "dist = np.sqrt(np.sum((arr - centroid)**2, axis=1))"
   ]
  },
  {
   "cell_type": "code",
   "execution_count": 7,
   "id": "26505ef5",
   "metadata": {},
   "outputs": [
    {
     "data": {
      "text/plain": [
       "array([[408819.        , 495679.        ,  91064.86595015],\n",
       "       [479465.        ,  20377.        , 479833.10084412],\n",
       "       [687347.        , 776616.        , 334388.36719678],\n",
       "       ...,\n",
       "       [727578.        , 371600.        , 261374.51961765],\n",
       "       [570852.        , 975316.        , 480816.67497255],\n",
       "       [195645.        , 295078.        , 366616.62528815]])"
      ]
     },
     "execution_count": 7,
     "metadata": {},
     "output_type": "execute_result"
    }
   ],
   "source": [
    "np.hstack([arr, dist.reshape(-1, 1)])"
   ]
  },
  {
   "cell_type": "code",
   "execution_count": null,
   "id": "5ac99ff0",
   "metadata": {},
   "outputs": [],
   "source": []
  }
 ],
 "metadata": {
  "kernelspec": {
   "display_name": "Python 3 (ipykernel)",
   "language": "python",
   "name": "python3"
  },
  "language_info": {
   "codemirror_mode": {
    "name": "ipython",
    "version": 3
   },
   "file_extension": ".py",
   "mimetype": "text/x-python",
   "name": "python",
   "nbconvert_exporter": "python",
   "pygments_lexer": "ipython3",
   "version": "3.9.7"
  }
 },
 "nbformat": 4,
 "nbformat_minor": 5
}
